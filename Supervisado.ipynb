{
 "cells": [
  {
   "cell_type": "markdown",
   "id": "f63d5409",
   "metadata": {},
   "source": [
    "# Aprendisaje Supervisado con set de datos de Harry Potter"
   ]
  },
  {
   "cell_type": "code",
   "execution_count": 271,
   "id": "640e2ec2",
   "metadata": {},
   "outputs": [],
   "source": [
    "import pandas as pd\n",
    "from sklearn.model_selection import train_test_split\n",
    "from sklearn.preprocessing import StandardScaler, LabelEncoder\n",
    "from sklearn.svm import SVC\n",
    "from sklearn.neighbors import KNeighborsClassifier\n",
    "from sklearn.metrics import classification_report, accuracy_score\n",
    "from sklearn.ensemble import RandomForestClassifier\n",
    "from sklearn.svm import SVC\n",
    "import matplotlib.pyplot as plt\n",
    "import numpy as np\n",
    "\n",
    "from sklearn.metrics import ConfusionMatrixDisplay\n"
   ]
  },
  {
   "cell_type": "markdown",
   "id": "16c58c93",
   "metadata": {},
   "source": [
    "Primero analizamos los datos "
   ]
  },
  {
   "cell_type": "code",
   "execution_count": 272,
   "id": "fe209372",
   "metadata": {},
   "outputs": [
    {
     "data": {
      "text/html": [
       "<div>\n",
       "<style scoped>\n",
       "    .dataframe tbody tr th:only-of-type {\n",
       "        vertical-align: middle;\n",
       "    }\n",
       "\n",
       "    .dataframe tbody tr th {\n",
       "        vertical-align: top;\n",
       "    }\n",
       "\n",
       "    .dataframe thead th {\n",
       "        text-align: right;\n",
       "    }\n",
       "</style>\n",
       "<table border=\"1\" class=\"dataframe\">\n",
       "  <thead>\n",
       "    <tr style=\"text-align: right;\">\n",
       "      <th></th>\n",
       "      <th>Blood Status</th>\n",
       "      <th>Bravery</th>\n",
       "      <th>Intelligence</th>\n",
       "      <th>Loyalty</th>\n",
       "      <th>Ambition</th>\n",
       "      <th>Dark Arts Knowledge</th>\n",
       "      <th>Quidditch Skills</th>\n",
       "      <th>Dueling Skills</th>\n",
       "      <th>Creativity</th>\n",
       "      <th>House</th>\n",
       "    </tr>\n",
       "  </thead>\n",
       "  <tbody>\n",
       "    <tr>\n",
       "      <th>0</th>\n",
       "      <td>Half-blood</td>\n",
       "      <td>9</td>\n",
       "      <td>4</td>\n",
       "      <td>7</td>\n",
       "      <td>5</td>\n",
       "      <td>0</td>\n",
       "      <td>8</td>\n",
       "      <td>8</td>\n",
       "      <td>7</td>\n",
       "      <td>Gryffindor</td>\n",
       "    </tr>\n",
       "    <tr>\n",
       "      <th>1</th>\n",
       "      <td>Muggle-born</td>\n",
       "      <td>6</td>\n",
       "      <td>8</td>\n",
       "      <td>5</td>\n",
       "      <td>7</td>\n",
       "      <td>5</td>\n",
       "      <td>6</td>\n",
       "      <td>4</td>\n",
       "      <td>9</td>\n",
       "      <td>Ravenclaw</td>\n",
       "    </tr>\n",
       "    <tr>\n",
       "      <th>2</th>\n",
       "      <td>Pure-blood</td>\n",
       "      <td>1</td>\n",
       "      <td>4</td>\n",
       "      <td>7</td>\n",
       "      <td>7</td>\n",
       "      <td>1</td>\n",
       "      <td>4</td>\n",
       "      <td>4</td>\n",
       "      <td>6</td>\n",
       "      <td>Hufflepuff</td>\n",
       "    </tr>\n",
       "    <tr>\n",
       "      <th>3</th>\n",
       "      <td>Pure-blood</td>\n",
       "      <td>9</td>\n",
       "      <td>1</td>\n",
       "      <td>3</td>\n",
       "      <td>4</td>\n",
       "      <td>1</td>\n",
       "      <td>9</td>\n",
       "      <td>10</td>\n",
       "      <td>1</td>\n",
       "      <td>Gryffindor</td>\n",
       "    </tr>\n",
       "    <tr>\n",
       "      <th>4</th>\n",
       "      <td>Muggle-born</td>\n",
       "      <td>5</td>\n",
       "      <td>9</td>\n",
       "      <td>7</td>\n",
       "      <td>3</td>\n",
       "      <td>3</td>\n",
       "      <td>6</td>\n",
       "      <td>7</td>\n",
       "      <td>9</td>\n",
       "      <td>Ravenclaw</td>\n",
       "    </tr>\n",
       "  </tbody>\n",
       "</table>\n",
       "</div>"
      ],
      "text/plain": [
       "  Blood Status  Bravery  Intelligence  Loyalty  Ambition  Dark Arts Knowledge  \\\n",
       "0   Half-blood        9             4        7         5                    0   \n",
       "1  Muggle-born        6             8        5         7                    5   \n",
       "2   Pure-blood        1             4        7         7                    1   \n",
       "3   Pure-blood        9             1        3         4                    1   \n",
       "4  Muggle-born        5             9        7         3                    3   \n",
       "\n",
       "   Quidditch Skills  Dueling Skills  Creativity       House  \n",
       "0                 8               8           7  Gryffindor  \n",
       "1                 6               4           9   Ravenclaw  \n",
       "2                 4               4           6  Hufflepuff  \n",
       "3                 9              10           1  Gryffindor  \n",
       "4                 6               7           9   Ravenclaw  "
      ]
     },
     "execution_count": 272,
     "metadata": {},
     "output_type": "execute_result"
    }
   ],
   "source": [
    "df = pd.read_csv('harry_potter_1000_students.csv')\n",
    "df.head(5)"
   ]
  },
  {
   "cell_type": "markdown",
   "id": "ee5c0df0",
   "metadata": {},
   "source": [
    "\n",
    "Nos aseguramos de que la variable objetivo esté codificada como número"
   ]
  },
  {
   "cell_type": "code",
   "execution_count": 273,
   "id": "463bbb71",
   "metadata": {},
   "outputs": [
    {
     "data": {
      "text/html": [
       "<div>\n",
       "<style scoped>\n",
       "    .dataframe tbody tr th:only-of-type {\n",
       "        vertical-align: middle;\n",
       "    }\n",
       "\n",
       "    .dataframe tbody tr th {\n",
       "        vertical-align: top;\n",
       "    }\n",
       "\n",
       "    .dataframe thead th {\n",
       "        text-align: right;\n",
       "    }\n",
       "</style>\n",
       "<table border=\"1\" class=\"dataframe\">\n",
       "  <thead>\n",
       "    <tr style=\"text-align: right;\">\n",
       "      <th></th>\n",
       "      <th>Blood Status</th>\n",
       "      <th>Bravery</th>\n",
       "      <th>Intelligence</th>\n",
       "      <th>Loyalty</th>\n",
       "      <th>Ambition</th>\n",
       "      <th>Dark Arts Knowledge</th>\n",
       "      <th>Quidditch Skills</th>\n",
       "      <th>Dueling Skills</th>\n",
       "      <th>Creativity</th>\n",
       "      <th>House</th>\n",
       "    </tr>\n",
       "  </thead>\n",
       "  <tbody>\n",
       "    <tr>\n",
       "      <th>0</th>\n",
       "      <td>Half-blood</td>\n",
       "      <td>9</td>\n",
       "      <td>4</td>\n",
       "      <td>7</td>\n",
       "      <td>5</td>\n",
       "      <td>0</td>\n",
       "      <td>8</td>\n",
       "      <td>8</td>\n",
       "      <td>7</td>\n",
       "      <td>0</td>\n",
       "    </tr>\n",
       "    <tr>\n",
       "      <th>1</th>\n",
       "      <td>Muggle-born</td>\n",
       "      <td>6</td>\n",
       "      <td>8</td>\n",
       "      <td>5</td>\n",
       "      <td>7</td>\n",
       "      <td>5</td>\n",
       "      <td>6</td>\n",
       "      <td>4</td>\n",
       "      <td>9</td>\n",
       "      <td>2</td>\n",
       "    </tr>\n",
       "    <tr>\n",
       "      <th>2</th>\n",
       "      <td>Pure-blood</td>\n",
       "      <td>1</td>\n",
       "      <td>4</td>\n",
       "      <td>7</td>\n",
       "      <td>7</td>\n",
       "      <td>1</td>\n",
       "      <td>4</td>\n",
       "      <td>4</td>\n",
       "      <td>6</td>\n",
       "      <td>1</td>\n",
       "    </tr>\n",
       "    <tr>\n",
       "      <th>3</th>\n",
       "      <td>Pure-blood</td>\n",
       "      <td>9</td>\n",
       "      <td>1</td>\n",
       "      <td>3</td>\n",
       "      <td>4</td>\n",
       "      <td>1</td>\n",
       "      <td>9</td>\n",
       "      <td>10</td>\n",
       "      <td>1</td>\n",
       "      <td>0</td>\n",
       "    </tr>\n",
       "    <tr>\n",
       "      <th>4</th>\n",
       "      <td>Muggle-born</td>\n",
       "      <td>5</td>\n",
       "      <td>9</td>\n",
       "      <td>7</td>\n",
       "      <td>3</td>\n",
       "      <td>3</td>\n",
       "      <td>6</td>\n",
       "      <td>7</td>\n",
       "      <td>9</td>\n",
       "      <td>2</td>\n",
       "    </tr>\n",
       "  </tbody>\n",
       "</table>\n",
       "</div>"
      ],
      "text/plain": [
       "  Blood Status  Bravery  Intelligence  Loyalty  Ambition  Dark Arts Knowledge  \\\n",
       "0   Half-blood        9             4        7         5                    0   \n",
       "1  Muggle-born        6             8        5         7                    5   \n",
       "2   Pure-blood        1             4        7         7                    1   \n",
       "3   Pure-blood        9             1        3         4                    1   \n",
       "4  Muggle-born        5             9        7         3                    3   \n",
       "\n",
       "   Quidditch Skills  Dueling Skills  Creativity  House  \n",
       "0                 8               8           7      0  \n",
       "1                 6               4           9      2  \n",
       "2                 4               4           6      1  \n",
       "3                 9              10           1      0  \n",
       "4                 6               7           9      2  "
      ]
     },
     "execution_count": 273,
     "metadata": {},
     "output_type": "execute_result"
    }
   ],
   "source": [
    "\n",
    "df['House'] = LabelEncoder().fit_transform(df['House'])\n",
    "df.head(5)\n"
   ]
  },
  {
   "cell_type": "code",
   "execution_count": 274,
   "id": "42c2a7d3",
   "metadata": {},
   "outputs": [
    {
     "name": "stdout",
     "output_type": "stream",
     "text": [
      "Correlación de variables numéricas con la clase 'House':\n",
      "\n",
      "House                  1.000000\n",
      "Dark Arts Knowledge    0.701272\n",
      "Ambition               0.581215\n",
      "Creativity             0.155406\n",
      "Intelligence           0.124502\n",
      "Dueling Skills         0.010411\n",
      "Quidditch Skills       0.006398\n",
      "Loyalty               -0.202827\n",
      "Bravery               -0.541016\n",
      "Name: House, dtype: float64\n"
     ]
    }
   ],
   "source": [
    "# Seleccionar solo columnas numéricas ya que con estas vamos a trabajar\n",
    "numeric_df = df.select_dtypes(include='number')\n",
    "\n",
    "# Calculamos correlaciones con la variable objetivo codificada ya que estabamos en un bucle de accuracy perfecto\n",
    "corrs = numeric_df.corr()['House'].sort_values(ascending=False)\n",
    "\n",
    "print(\"Correlación de variables numéricas con la clase 'House':\\n\")\n",
    "print(corrs)"
   ]
  },
  {
   "cell_type": "markdown",
   "id": "ffdefcbe",
   "metadata": {},
   "source": [
    "Despues de varias pruebas con accuracy perfecto llegue a la conclusion de una  fuga de información semántica con estas tres variables:\n",
    "\n",
    "- Dark Arts Knowledge (0.70)\n",
    "- Ambition (0.58)\n",
    "- Bravery (-0.54)\n",
    "\n",
    "Ya que le permiten al modelo predecir perfectamente la casa, porque reflejan directamente los estereotipos de las casas (Slytherin ambicioso, Gryffindor valiente, etc.)."
   ]
  },
  {
   "cell_type": "markdown",
   "id": "8dae4786",
   "metadata": {},
   "source": [
    "Por lo que hicimos una prueba de clasificación sin las variables fuertemente correlacionadas, para ver si el modelo sigue teniendo rendimiento alto"
   ]
  },
  {
   "cell_type": "code",
   "execution_count": 275,
   "id": "77e85496",
   "metadata": {},
   "outputs": [
    {
     "name": "stdout",
     "output_type": "stream",
     "text": [
      "Variables restantes: ['Intelligence', 'Loyalty', 'Quidditch Skills', 'Dueling Skills', 'Creativity']\n"
     ]
    }
   ],
   "source": [
    "# Eliminar las variablesfuertemente correlacionadas con la variable objetivo\n",
    "X_filtered = df.drop(['House', 'Dark Arts Knowledge', 'Ambition', 'Bravery'], axis=1)\n",
    "\n",
    "# Eliminar columnas no numéricas restantes (como 'Blood Status')\n",
    "X_filtered = X_filtered.select_dtypes(include='number')  # analizamos solo columnas numéricas\n",
    "\n",
    "\n",
    "# Confirmar que quedan variables numéricas y limpias\n",
    "print(\"Variables restantes:\", X_filtered.columns.tolist())\n"
   ]
  },
  {
   "cell_type": "code",
   "execution_count": 276,
   "id": "49d10dbe",
   "metadata": {},
   "outputs": [],
   "source": [
    "# División train/test\n",
    "\n",
    "X_train_f, X_test_f, y_train_f, y_test_f = train_test_split(\n",
    "    X_filtered, df['House'], test_size=0.2, stratify=df['House'], random_state=42\n",
    ")\n"
   ]
  },
  {
   "cell_type": "code",
   "execution_count": 277,
   "id": "93c1f4ee",
   "metadata": {},
   "outputs": [],
   "source": [
    "# Escalado\n",
    "\n",
    "scaler_f = StandardScaler()\n",
    "X_train_scaled_f = scaler_f.fit_transform(X_train_f)\n",
    "X_test_scaled_f = scaler_f.transform(X_test_f)\n"
   ]
  },
  {
   "cell_type": "code",
   "execution_count": 278,
   "id": "0dffa2fd",
   "metadata": {},
   "outputs": [
    {
     "name": "stdout",
     "output_type": "stream",
     "text": [
      "RandomForest - Accuracy: 0.8050\n",
      "SVM - Accuracy: 0.7800\n",
      "KNN - Accuracy: 0.7850\n"
     ]
    }
   ],
   "source": [
    "\n",
    "# Diccionario para almacenar modelos y sus nombres\n",
    "modelos = {\n",
    "    \"RandomForest\": RandomForestClassifier(random_state=42),\n",
    "    \"SVM\": SVC(kernel='rbf', C=1, gamma='scale', random_state=42),\n",
    "    \"KNN\": KNeighborsClassifier(n_neighbors=5)\n",
    "}\n",
    "\n",
    "resultados = {}\n",
    "\n",
    "# Entrenamiento y evaluación de cada modelo\n",
    "for nombre, modelo in modelos.items():\n",
    "    modelo.fit(X_train_scaled_f, y_train_f)\n",
    "    y_pred = modelo.predict(X_test_scaled_f)\n",
    "    acc = accuracy_score(y_test_f, y_pred)\n",
    "    resultados[nombre] = {\n",
    "        \"accuracy\": acc,\n",
    "        \"modelo\": modelo,\n",
    "        \"y_pred\": y_pred\n",
    "    }\n",
    "    print(f\"{nombre} - Accuracy: {acc:.4f}\")\n",
    "\n",
    "\n"
   ]
  },
  {
   "cell_type": "code",
   "execution_count": 279,
   "id": "2fe3da4e",
   "metadata": {},
   "outputs": [
    {
     "data": {
      "image/png": "[encoded data removed]",
      "text/plain": [
       "<Figure size 700x400 with 1 Axes>"
      ]
     },
     "metadata": {},
     "output_type": "display_data"
    }
   ],
   "source": [
    "\n",
    "\n",
    "plt.figure(figsize=(7,4))\n",
    "plt.bar(resultados.keys(), [r[\"accuracy\"] for r in resultados.values()], color='skyblue')\n",
    "plt.title(\"Comparación de accuracy por modelo\")\n",
    "plt.ylabel(\"Accuracy\")\n",
    "plt.ylim(0, 1)\n",
    "plt.grid(axis='y', linestyle='--', alpha=0.5)\n",
    "plt.show()\n"
   ]
  },
  {
   "cell_type": "code",
   "execution_count": 280,
   "id": "79a29e09",
   "metadata": {},
   "outputs": [],
   "source": [
    "# Seleccionamos del mejor modelo\n",
    "mejor_nombre = max(resultados, key=lambda k: resultados[k]['accuracy'])\n",
    "mejor_modelo = resultados[mejor_nombre][\"modelo\"]\n",
    "mejor_pred = resultados[mejor_nombre][\"y_pred\"]\n"
   ]
  },
  {
   "cell_type": "code",
   "execution_count": 281,
   "id": "2ba21502",
   "metadata": {},
   "outputs": [
    {
     "name": "stdout",
     "output_type": "stream",
     "text": [
      " Mejor modelo: RandomForest con accuracy = 0.8050\n",
      "              precision    recall  f1-score   support\n",
      "\n",
      "  Gryffindor       0.58      0.47      0.52        45\n",
      "  Hufflepuff       1.00      1.00      1.00        50\n",
      "   Ravenclaw       1.00      1.00      1.00        52\n",
      "   Slytherin       0.61      0.72      0.66        53\n",
      "\n",
      "    accuracy                           0.81       200\n",
      "   macro avg       0.80      0.80      0.79       200\n",
      "weighted avg       0.80      0.81      0.80       200\n",
      "\n"
     ]
    }
   ],
   "source": [
    "\n",
    "print(f\" Mejor modelo: {mejor_nombre} con accuracy = {resultados[mejor_nombre]['accuracy']:.4f}\")\n",
    "nombres_presentes = ['Gryffindor', 'Hufflepuff', 'Ravenclaw', 'Slytherin']\n",
    "print(classification_report(y_test_f, mejor_pred, target_names=nombres_presentes))\n",
    "\n"
   ]
  },
  {
   "cell_type": "code",
   "execution_count": 282,
   "id": "44228b17",
   "metadata": {},
   "outputs": [
    {
     "data": {
      "image/png": "[encoded data removed]",
      "text/plain": [
       "<Figure size 640x480 with 2 Axes>"
      ]
     },
     "metadata": {},
     "output_type": "display_data"
    }
   ],
   "source": [
    "ConfusionMatrixDisplay.from_predictions(\n",
    "    y_test_f,\n",
    "    mejor_pred,\n",
    "    display_labels=['Gryffindor', 'Hufflepuff', 'Ravenclaw', 'Slytherin'],\n",
    "    cmap=\"Blues\",\n",
    "    xticks_rotation=45\n",
    ")\n",
    "plt.title(f\"Matriz de Confusión - {mejor_nombre}\")\n",
    "plt.tight_layout()\n",
    "plt.show()"
   ]
  },
  {
   "cell_type": "markdown",
   "id": "2be18837",
   "metadata": {},
   "source": [
    "## Interpretación de los resultados\n",
    "\n",
    "**Accuracy general (80.5%)**:  \n",
    "El modelo predice correctamente el 80.5% de los estudiantes en su casa de Hogwarts, lo cual es razonable pero no excelente. Hay margen para mejorar.\n",
    "\n",
    "### Por clase:\n",
    "\n",
    "Gryffindor (precisión 0.58, recall 0.47, f1 0.52):\n",
    "- El modelo tiene dificultades para identificar correctamente a los estudiantes de Gryffindor.  \n",
    "- Recall bajo (47%): muchos Gryffindor reales no son detectados (falsos negativos).  \n",
    "- Precisión también baja (58%): de las predicciones Gryffindor, solo 58% son correctas.\n",
    "\n",
    "Hufflepuff (precisión, recall y f1 = 1.00):\n",
    "- Excelente desempeño para esta clase.  \n",
    "- El modelo clasifica perfectamente a los estudiantes Hufflepuff sin errores.\n",
    "\n",
    "Ravenclaw (precisión, recall y f1 = 1.00):\n",
    "- También se predice perfectamente.\n",
    "\n",
    "Slytherin (precisión 0.61, recall 0.72, f1 0.66):\n",
    "- Rendimiento moderado.  \n",
    "- El modelo detecta bien a Slytherin (recall 72%), pero la precisión es baja (61%) indicando que algunas predicciones Slytherin son incorrectas.\n"
   ]
  },
  {
   "cell_type": "markdown",
   "id": "adc13afa",
   "metadata": {},
   "source": [
    "## Conclusiones\n",
    "\n",
    "- **Desbalance o características poco claras para Gryffindor y Slytherin:**  \n",
    "  La menor performance para estas casas sugiere que las características numéricas usadas pueden no diferenciar bien entre ellos, o hay solapamiento en sus atributos.\n",
    "\n",
    "- **Hufflepuff y Ravenclaw se distinguen claramente:**  \n",
    "  El modelo identifica muy bien estas dos casas, lo que puede deberse a características distintivas claras y poco solapamiento.\n",
    "\n",
    "- **Necesidad de mejorar el modelo para casas más “difíciles”:**  \n",
    "  Se pueden explorar técnicas para mejorar el rendimiento en Gryffindor y Slytherin:  \n",
    "  - Obtener más datos o nuevas variables relevantes.   \n",
    "  - Usar modelos más complejos o tuning más exhaustivo.  \n",
    "\n",
    "- **El accuracy total es aceptable, pero el análisis por clase muestra disparidades:**  \n",
    "  No basta con el accuracy general; el análisis clase por clase es fundamental para entender fortalezas y debilidades del modelo."
   ]
  }
 ],
 "metadata": {
  "kernelspec": {
   "display_name": "Python 3",
   "language": "python",
   "name": "python3"
  },
  "language_info": {
   "codemirror_mode": {
    "name": "ipython",
    "version": 3
   },
   "file_extension": ".py",
   "mimetype": "text/x-python",
   "name": "python",
   "nbconvert_exporter": "python",
   "pygments_lexer": "ipython3",
   "version": "3.12.6"
  }
 },
 "nbformat": 4,
 "nbformat_minor": 5
}
